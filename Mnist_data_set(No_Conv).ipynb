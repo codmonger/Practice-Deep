{
  "nbformat": 4,
  "nbformat_minor": 0,
  "metadata": {
    "colab": {
      "name": "Mnist_data-set(No Conv)",
      "version": "0.3.2",
      "provenance": [],
      "collapsed_sections": []
    },
    "kernelspec": {
      "name": "python3",
      "display_name": "Python 3"
    }
  },
  "cells": [
    {
      "cell_type": "code",
      "metadata": {
        "id": "JVtW1Qhayt5C",
        "colab_type": "code",
        "colab": {}
      },
      "source": [
        "import keras\n",
        "import numpy as np\n",
        "from keras.datasets import mnist\n",
        "import matplotlib.pyplot as plt"
      ],
      "execution_count": 0,
      "outputs": []
    },
    {
      "cell_type": "code",
      "metadata": {
        "id": "Ab5nvsWZ0Y1Q",
        "colab_type": "code",
        "outputId": "3bfb9484-d086-41b2-e51b-e50bb48e5bdb",
        "colab": {
          "base_uri": "https://localhost:8080/",
          "height": 34
        }
      },
      "source": [
        "(trainX,trainY),(testX,testY)=mnist.load_data()\n",
        "print(trainX.shape)"
      ],
      "execution_count": 0,
      "outputs": [
        {
          "output_type": "stream",
          "text": [
            "(60000, 28, 28)\n"
          ],
          "name": "stdout"
        }
      ]
    },
    {
      "cell_type": "code",
      "metadata": {
        "id": "YYcZ7oMM065x",
        "colab_type": "code",
        "outputId": "6671e2ef-32be-410a-d64a-20e820da5b01",
        "colab": {
          "base_uri": "https://localhost:8080/",
          "height": 286
        }
      },
      "source": [
        "img=trainX[0]\n",
        "plt.imshow(img,cmap=plt.cm.binary)"
      ],
      "execution_count": 0,
      "outputs": [
        {
          "output_type": "execute_result",
          "data": {
            "text/plain": [
              "<matplotlib.image.AxesImage at 0x7fd5ebc26470>"
            ]
          },
          "metadata": {
            "tags": []
          },
          "execution_count": 93
        },
        {
          "output_type": "display_data",
          "data": {
            "image/png": "[encoded data removed]",
            "text/plain": [
              "<Figure size 432x288 with 1 Axes>"
            ]
          },
          "metadata": {
            "tags": []
          }
        }
      ]
    },
    {
      "cell_type": "code",
      "metadata": {
        "id": "SGW0mzSj1od9",
        "colab_type": "code",
        "colab": {}
      },
      "source": [
        "from keras import layers\n",
        "from keras import models\n",
        "#from keras import optimizers\n",
        "from keras import regularizers\n"
      ],
      "execution_count": 0,
      "outputs": []
    },
    {
      "cell_type": "code",
      "metadata": {
        "id": "dp_MC5z4O29s",
        "colab_type": "code",
        "colab": {}
      },
      "source": [
        "model=models.Sequential()\n",
        "model.add(layers.Dense(512,activation='relu',input_shape=(28*28,)))\n",
        "#model.add(Dropout(0.2))\n",
        "model.add(layers.Dense(10,activation='softmax'))"
      ],
      "execution_count": 0,
      "outputs": []
    },
    {
      "cell_type": "code",
      "metadata": {
        "id": "8cOEmF_xQWse",
        "colab_type": "code",
        "colab": {}
      },
      "source": [
        "adam=keras.optimizers.Adam(lr=0.004, beta_1=0.9, beta_2=0.999, epsilon=1e-6, decay=1e-6, amsgrad=False)\n",
        "model.compile(optimizer='adam',metrics=['accuracy'],loss='categorical_crossentropy')"
      ],
      "execution_count": 0,
      "outputs": []
    },
    {
      "cell_type": "code",
      "metadata": {
        "id": "fZ4zkzt9RPHm",
        "colab_type": "code",
        "outputId": "52818961-dc4f-4104-a179-18d5fa7a4c3b",
        "colab": {
          "base_uri": "https://localhost:8080/",
          "height": 34
        }
      },
      "source": [
        "trainX = trainX.reshape((60000, 28 * 28))\n",
        "trainX = trainX.astype('float32') / 255\n",
        "testX = testX.reshape((10000, 28 * 28))\n",
        "testX= testX.astype('float32') / 255\n",
        "#print(trainX.shape)"
      ],
      "execution_count": 0,
      "outputs": [
        {
          "output_type": "stream",
          "text": [
            "(60000, 784)\n"
          ],
          "name": "stdout"
        }
      ]
    },
    {
      "cell_type": "code",
      "metadata": {
        "id": "B7hyHyUwRxxy",
        "colab_type": "code",
        "colab": {}
      },
      "source": [
        "from keras.utils import to_categorical\n",
        "trainY=to_categorical(trainY)\n",
        "testY=to_categorical(testY)"
      ],
      "execution_count": 0,
      "outputs": []
    },
    {
      "cell_type": "code",
      "metadata": {
        "id": "apd6VehmSNYS",
        "colab_type": "code",
        "outputId": "4534cb5e-6d80-4fd8-b264-4ad874203fc7",
        "colab": {
          "base_uri": "https://localhost:8080/",
          "height": 1394
        }
      },
      "source": [
        "model.fit(trainX,trainY,epochs=40,batch_size=64)"
      ],
      "execution_count": 0,
      "outputs": [
        {
          "output_type": "stream",
          "text": [
            "Epoch 1/40\n",
            "60000/60000 [==============================] - 9s 150us/step - loss: 0.2272 - acc: 0.9341\n",
            "Epoch 2/40\n",
            "60000/60000 [==============================] - 8s 138us/step - loss: 0.0901 - acc: 0.9728\n",
            "Epoch 3/40\n",
            "60000/60000 [==============================] - 9s 143us/step - loss: 0.0580 - acc: 0.9824\n",
            "Epoch 4/40\n",
            "60000/60000 [==============================] - 9s 145us/step - loss: 0.0406 - acc: 0.9879\n",
            "Epoch 5/40\n",
            "60000/60000 [==============================] - 8s 138us/step - loss: 0.0301 - acc: 0.9908\n",
            "Epoch 6/40\n",
            "60000/60000 [==============================] - 8s 136us/step - loss: 0.0203 - acc: 0.9941\n",
            "Epoch 7/40\n",
            "60000/60000 [==============================] - 8s 135us/step - loss: 0.0175 - acc: 0.9947\n",
            "Epoch 8/40\n",
            "60000/60000 [==============================] - 8s 138us/step - loss: 0.0127 - acc: 0.9962\n",
            "Epoch 9/40\n",
            "60000/60000 [==============================] - 8s 137us/step - loss: 0.0127 - acc: 0.9960\n",
            "Epoch 10/40\n",
            "60000/60000 [==============================] - 8s 137us/step - loss: 0.0103 - acc: 0.9966\n",
            "Epoch 11/40\n",
            "60000/60000 [==============================] - 8s 138us/step - loss: 0.0092 - acc: 0.9971\n",
            "Epoch 12/40\n",
            "60000/60000 [==============================] - 9s 142us/step - loss: 0.0072 - acc: 0.9978\n",
            "Epoch 13/40\n",
            "60000/60000 [==============================] - 8s 140us/step - loss: 0.0058 - acc: 0.9981\n",
            "Epoch 14/40\n",
            "60000/60000 [==============================] - 9s 143us/step - loss: 0.0056 - acc: 0.9983\n",
            "Epoch 15/40\n",
            "60000/60000 [==============================] - 9s 145us/step - loss: 0.0071 - acc: 0.9975\n",
            "Epoch 16/40\n",
            "60000/60000 [==============================] - 9s 144us/step - loss: 0.0053 - acc: 0.9984\n",
            "Epoch 17/40\n",
            "60000/60000 [==============================] - 9s 142us/step - loss: 0.0041 - acc: 0.9986\n",
            "Epoch 18/40\n",
            "60000/60000 [==============================] - 9s 144us/step - loss: 0.0055 - acc: 0.9982\n",
            "Epoch 19/40\n",
            "60000/60000 [==============================] - 8s 141us/step - loss: 0.0045 - acc: 0.9986\n",
            "Epoch 20/40\n",
            "60000/60000 [==============================] - 9s 144us/step - loss: 0.0049 - acc: 0.9983\n",
            "Epoch 21/40\n",
            "60000/60000 [==============================] - 9s 144us/step - loss: 0.0039 - acc: 0.9987\n",
            "Epoch 22/40\n",
            "60000/60000 [==============================] - 9s 143us/step - loss: 0.0018 - acc: 0.9996\n",
            "Epoch 23/40\n",
            "60000/60000 [==============================] - 9s 143us/step - loss: 0.0062 - acc: 0.9980\n",
            "Epoch 24/40\n",
            "60000/60000 [==============================] - 9s 146us/step - loss: 0.0019 - acc: 0.9994\n",
            "Epoch 25/40\n",
            "60000/60000 [==============================] - 9s 146us/step - loss: 2.5254e-04 - acc: 1.0000\n",
            "Epoch 26/40\n",
            "60000/60000 [==============================] - 9s 147us/step - loss: 6.2766e-05 - acc: 1.0000\n",
            "Epoch 27/40\n",
            "60000/60000 [==============================] - 9s 147us/step - loss: 0.0107 - acc: 0.9970\n",
            "Epoch 28/40\n",
            "60000/60000 [==============================] - 9s 147us/step - loss: 0.0046 - acc: 0.9984\n",
            "Epoch 29/40\n",
            "60000/60000 [==============================] - 9s 147us/step - loss: 0.0020 - acc: 0.9995\n",
            "Epoch 30/40\n",
            "60000/60000 [==============================] - 9s 146us/step - loss: 0.0015 - acc: 0.9995\n",
            "Epoch 31/40\n",
            "60000/60000 [==============================] - 9s 143us/step - loss: 0.0070 - acc: 0.9976\n",
            "Epoch 32/40\n",
            "60000/60000 [==============================] - 9s 143us/step - loss: 0.0016 - acc: 0.9996\n",
            "Epoch 33/40\n",
            "60000/60000 [==============================] - 9s 143us/step - loss: 0.0046 - acc: 0.9985\n",
            "Epoch 34/40\n",
            "60000/60000 [==============================] - 9s 143us/step - loss: 0.0026 - acc: 0.9992\n",
            "Epoch 35/40\n",
            "60000/60000 [==============================] - 9s 143us/step - loss: 0.0032 - acc: 0.9989\n",
            "Epoch 36/40\n",
            "60000/60000 [==============================] - 9s 145us/step - loss: 0.0047 - acc: 0.9986\n",
            "Epoch 37/40\n",
            "60000/60000 [==============================] - 9s 143us/step - loss: 0.0034 - acc: 0.9990\n",
            "Epoch 38/40\n",
            "60000/60000 [==============================] - 9s 143us/step - loss: 5.2310e-04 - acc: 0.9999\n",
            "Epoch 39/40\n",
            "60000/60000 [==============================] - 9s 143us/step - loss: 3.8304e-05 - acc: 1.0000\n",
            "Epoch 40/40\n",
            "60000/60000 [==============================] - 9s 149us/step - loss: 1.7465e-05 - acc: 1.0000\n"
          ],
          "name": "stdout"
        },
        {
          "output_type": "execute_result",
          "data": {
            "text/plain": [
              "<keras.callbacks.History at 0x7fd5f1aaab38>"
            ]
          },
          "metadata": {
            "tags": []
          },
          "execution_count": 77
        }
      ]
    },
    {
      "cell_type": "code",
      "metadata": {
        "id": "yG6spVR7SiPt",
        "colab_type": "code",
        "outputId": "0865788b-5892-46ac-dd42-42857d172dba",
        "colab": {
          "base_uri": "https://localhost:8080/",
          "height": 51
        }
      },
      "source": [
        "test_loss, test_acc = model.evaluate(testX, testY)\n",
        "print('test_acc:', test_acc)"
      ],
      "execution_count": 0,
      "outputs": [
        {
          "output_type": "stream",
          "text": [
            "10000/10000 [==============================] - 0s 49us/step\n",
            "test_acc: 0.9852\n"
          ],
          "name": "stdout"
        }
      ]
    },
    {
      "cell_type": "code",
      "metadata": {
        "id": "DN2vlSkTT_QB",
        "colab_type": "code",
        "colab": {}
      },
      "source": [
        "\n"
      ],
      "execution_count": 0,
      "outputs": []
    },
    {
      "cell_type": "code",
      "metadata": {
        "id": "y-IAc5FoikeO",
        "colab_type": "code",
        "colab": {}
      },
      "source": [
        ""
      ],
      "execution_count": 0,
      "outputs": []
    }
  ]
}